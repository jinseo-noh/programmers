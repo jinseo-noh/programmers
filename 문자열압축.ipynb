{
 "cells": [
  {
   "cell_type": "code",
   "execution_count": 13,
   "metadata": {},
   "outputs": [],
   "source": [
    "def solution(s):\n",
    "    answer = 0\n",
    "    ans=''\n",
    "    for i in (1,int(len(s)/2)):\n",
    "        unit = i\n",
    "        for j in range(int(len(s)/unit)):\n",
    "            num=1\n",
    "            if s[j*unit: (j+1)*unit] == s[(j+1)*unit: (j+2)*unit]:\n",
    "                num+=1\n",
    "                print(s)\n",
    "            else:\n",
    "                if num>1:\n",
    "                    ans=ans+str(num)+s[j*unit: (j+1)*unit]\n",
    "                    print(ans)\n",
    "                else:\n",
    "                    ans=ans+s[j*unit: (j+1)*unit]\n",
    "                num=1\n",
    "                \n",
    "        if answer>len(ans):\n",
    "            answer=len(ans)\n",
    "                    \n",
    "        ans=''\n",
    "            \n",
    "            \n",
    "                \n",
    "                \n",
    "    \n",
    "    return answer"
   ]
  },
  {
   "cell_type": "code",
   "execution_count": 14,
   "metadata": {},
   "outputs": [
    {
     "data": {
      "text/plain": [
       "0"
      ]
     },
     "execution_count": 14,
     "metadata": {},
     "output_type": "execute_result"
    }
   ],
   "source": [
    "solution('abcabcabcd')"
   ]
  },
  {
   "cell_type": "code",
   "execution_count": null,
   "metadata": {},
   "outputs": [],
   "source": []
  }
 ],
 "metadata": {
  "kernelspec": {
   "display_name": "Python 3",
   "language": "python",
   "name": "python3"
  },
  "language_info": {
   "codemirror_mode": {
    "name": "ipython",
    "version": 3
   },
   "file_extension": ".py",
   "mimetype": "text/x-python",
   "name": "python",
   "nbconvert_exporter": "python",
   "pygments_lexer": "ipython3",
   "version": "3.7.6"
  }
 },
 "nbformat": 4,
 "nbformat_minor": 4
}
